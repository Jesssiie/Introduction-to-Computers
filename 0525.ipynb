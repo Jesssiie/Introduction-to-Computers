{
  "nbformat": 4,
  "nbformat_minor": 0,
  "metadata": {
    "colab": {
      "name": "0525.ipynb",
      "provenance": [],
      "authorship_tag": "ABX9TyOZHJtQHTlT+xCkjK8L/4ZN",
      "include_colab_link": true
    },
    "kernelspec": {
      "name": "python3",
      "display_name": "Python 3"
    },
    "language_info": {
      "name": "python"
    }
  },
  "cells": [
    {
      "cell_type": "markdown",
      "metadata": {
        "id": "view-in-github",
        "colab_type": "text"
      },
      "source": [
        "<a href=\"https://colab.research.google.com/github/Jesssiie/Introduction-to-Computers/blob/main/0525.ipynb\" target=\"_parent\"><img src=\"https://colab.research.google.com/assets/colab-badge.svg\" alt=\"Open In Colab\"/></a>"
      ]
    },
    {
      "cell_type": "code",
      "execution_count": 1,
      "metadata": {
        "colab": {
          "base_uri": "https://localhost:8080/"
        },
        "id": "6mLyM-K1cwRP",
        "outputId": "c97857b1-0332-4185-b65b-1359366daa85"
      },
      "outputs": [
        {
          "output_type": "stream",
          "name": "stdout",
          "text": [
            "test\n"
          ]
        }
      ],
      "source": [
        "print(\"test\")"
      ]
    },
    {
      "cell_type": "code",
      "source": [
        "sum=0\n",
        "test=int(input(\"請輸入一個正整數:\"))\n",
        "for n in range(1,test+1):\n",
        "  sum=sum+n\n",
        "print(\"1到\",test,\"的整數合為\",sum)"
      ],
      "metadata": {
        "colab": {
          "base_uri": "https://localhost:8080/"
        },
        "id": "Rvub1teQdT4b",
        "outputId": "d8e89da6-cef8-4386-bdcf-e9b0e717789a"
      },
      "execution_count": 2,
      "outputs": [
        {
          "output_type": "stream",
          "name": "stdout",
          "text": [
            "請輸入一個正整數:50\n",
            "1到 50 的整數合為 1275\n"
          ]
        }
      ]
    },
    {
      "cell_type": "code",
      "source": [
        "sum=0\n",
        "test=int(input(\"請輸入一個正整數:\"))\n",
        "for m in range(1,test+1):\n",
        "  sum=sum+m\n",
        "  print(\"1到\"+str(m)+\"的整數合為:\",sum)"
      ],
      "metadata": {
        "colab": {
          "base_uri": "https://localhost:8080/"
        },
        "id": "rLpsvbdKewv2",
        "outputId": "6d55a975-6048-4cf5-f933-e88956712d97"
      },
      "execution_count": 6,
      "outputs": [
        {
          "output_type": "stream",
          "name": "stdout",
          "text": [
            "請輸入一個正整數:50\n",
            "1到1的整數合為: 1\n",
            "1到2的整數合為: 3\n",
            "1到3的整數合為: 6\n",
            "1到4的整數合為: 10\n",
            "1到5的整數合為: 15\n",
            "1到6的整數合為: 21\n",
            "1到7的整數合為: 28\n",
            "1到8的整數合為: 36\n",
            "1到9的整數合為: 45\n",
            "1到10的整數合為: 55\n",
            "1到11的整數合為: 66\n",
            "1到12的整數合為: 78\n",
            "1到13的整數合為: 91\n",
            "1到14的整數合為: 105\n",
            "1到15的整數合為: 120\n",
            "1到16的整數合為: 136\n",
            "1到17的整數合為: 153\n",
            "1到18的整數合為: 171\n",
            "1到19的整數合為: 190\n",
            "1到20的整數合為: 210\n",
            "1到21的整數合為: 231\n",
            "1到22的整數合為: 253\n",
            "1到23的整數合為: 276\n",
            "1到24的整數合為: 300\n",
            "1到25的整數合為: 325\n",
            "1到26的整數合為: 351\n",
            "1到27的整數合為: 378\n",
            "1到28的整數合為: 406\n",
            "1到29的整數合為: 435\n",
            "1到30的整數合為: 465\n",
            "1到31的整數合為: 496\n",
            "1到32的整數合為: 528\n",
            "1到33的整數合為: 561\n",
            "1到34的整數合為: 595\n",
            "1到35的整數合為: 630\n",
            "1到36的整數合為: 666\n",
            "1到37的整數合為: 703\n",
            "1到38的整數合為: 741\n",
            "1到39的整數合為: 780\n",
            "1到40的整數合為: 820\n",
            "1到41的整數合為: 861\n",
            "1到42的整數合為: 903\n",
            "1到43的整數合為: 946\n",
            "1到44的整數合為: 990\n",
            "1到45的整數合為: 1035\n",
            "1到46的整數合為: 1081\n",
            "1到47的整數合為: 1128\n",
            "1到48的整數合為: 1176\n",
            "1到49的整數合為: 1225\n",
            "1到50的整數合為: 1275\n"
          ]
        }
      ]
    },
    {
      "cell_type": "code",
      "source": [
        "for j in range(1,5):\n",
        "  print(j)\n",
        "  for i in range(1,3):\n",
        "    k=i*j\n",
        "    print(j,\"*\",i,\"=\",k)"
      ],
      "metadata": {
        "colab": {
          "base_uri": "https://localhost:8080/"
        },
        "id": "Xi_TUFy4NqJ3",
        "outputId": "32bcc4c9-2dac-4a2d-dbad-913e49d2d761"
      },
      "execution_count": 7,
      "outputs": [
        {
          "output_type": "stream",
          "name": "stdout",
          "text": [
            "1\n",
            "1 * 1 = 1\n",
            "1 * 2 = 2\n",
            "2\n",
            "2 * 1 = 2\n",
            "2 * 2 = 4\n",
            "3\n",
            "3 * 1 = 3\n",
            "3 * 2 = 6\n",
            "4\n",
            "4 * 1 = 4\n",
            "4 * 2 = 8\n"
          ]
        }
      ]
    },
    {
      "cell_type": "code",
      "source": [
        " for j in range(1,6):\n",
        "  print(j)\n",
        "  for i in range(1,3):\n",
        "    k=i*j\n",
        "    print(j,\"*\",i,\"=\",k)"
      ],
      "metadata": {
        "colab": {
          "base_uri": "https://localhost:8080/"
        },
        "id": "9n6JvT3sOoHm",
        "outputId": "44e6f771-585c-4102-bdf5-cdc4990feac1"
      },
      "execution_count": 9,
      "outputs": [
        {
          "output_type": "stream",
          "name": "stdout",
          "text": [
            "1\n",
            "1 * 1 = 1\n",
            "1 * 2 = 2\n",
            "2\n",
            "2 * 1 = 2\n",
            "2 * 2 = 4\n",
            "3\n",
            "3 * 1 = 3\n",
            "3 * 2 = 6\n",
            "4\n",
            "4 * 1 = 4\n",
            "4 * 2 = 8\n",
            "5\n",
            "5 * 1 = 5\n",
            "5 * 2 = 10\n"
          ]
        }
      ]
    },
    {
      "cell_type": "code",
      "source": [
        "for i in range (1,5):\n",
        "  if(i==4):\n",
        "    break\n",
        "  print(i,end=\" \")"
      ],
      "metadata": {
        "colab": {
          "base_uri": "https://localhost:8080/"
        },
        "id": "5gm9K-FAQ8Pf",
        "outputId": "40bbb531-de6c-43e5-9e7b-d43d61cfd0ad"
      },
      "execution_count": 12,
      "outputs": [
        {
          "output_type": "stream",
          "name": "stdout",
          "text": [
            "1 2 3 "
          ]
        }
      ]
    },
    {
      "cell_type": "code",
      "source": [
        "for i in range (1,5):\n",
        "  if(i==4):\n",
        "    continue\n",
        "  print(i,end=\" \")"
      ],
      "metadata": {
        "colab": {
          "base_uri": "https://localhost:8080/"
        },
        "id": "9r49GN79RYCY",
        "outputId": "b70f99ae-3097-4cf7-c836-046983b2d87e"
      },
      "execution_count": 13,
      "outputs": [
        {
          "output_type": "stream",
          "name": "stdout",
          "text": [
            "1 2 3 "
          ]
        }
      ]
    },
    {
      "cell_type": "code",
      "source": [
        "count=0\n",
        "for string in 'hello!':\n",
        "  count+=1\n",
        "  if string =='o':\n",
        "    break\n",
        "  print(string)\n",
        "print(\"迴圈結束\")\n",
        "print(\"迴圈執行了%d次\"%count)"
      ],
      "metadata": {
        "colab": {
          "base_uri": "https://localhost:8080/"
        },
        "id": "XmXfNmuQRdFB",
        "outputId": "96e8e509-47a3-4723-cc06-b8454553dc86"
      },
      "execution_count": 18,
      "outputs": [
        {
          "output_type": "stream",
          "name": "stdout",
          "text": [
            "h\n",
            "e\n",
            "l\n",
            "l\n",
            "迴圈結束\n",
            "迴圈執行了5次\n"
          ]
        }
      ]
    },
    {
      "cell_type": "code",
      "source": [
        "count=0\n",
        "for string in '測試看看!':\n",
        "  count+=1\n",
        "  if string =='看':\n",
        "    break\n",
        "  print(string)\n",
        "print(\"迴圈結束\")\n",
        "print(\"迴圈執行了%d次\"%count)"
      ],
      "metadata": {
        "colab": {
          "base_uri": "https://localhost:8080/"
        },
        "id": "S0LW4JYxT7Xj",
        "outputId": "db8ea42d-5a09-43d5-a457-110c2404df76"
      },
      "execution_count": 21,
      "outputs": [
        {
          "output_type": "stream",
          "name": "stdout",
          "text": [
            "測\n",
            "試\n",
            "迴圈結束\n",
            "迴圈執行了3次\n"
          ]
        }
      ]
    },
    {
      "cell_type": "code",
      "source": [
        "for i in range(2,10):\n",
        "    for j in range(2,10):\n",
        "      k=i*j\n",
        "      if(k>=10):\n",
        "        print(str(i)+'*'+str(j)+'='+str(k)+' ',end='')\n",
        "      else:\n",
        "        print(str(i)+'*'+str(j)+'= '+str(k)+' ',end='')\n",
        "    print( )"
      ],
      "metadata": {
        "colab": {
          "base_uri": "https://localhost:8080/"
        },
        "id": "3qiVF0X9Uc3g",
        "outputId": "2793a132-bfbf-4657-cce6-d5c55a85bbcb"
      },
      "execution_count": 45,
      "outputs": [
        {
          "output_type": "stream",
          "name": "stdout",
          "text": [
            "2*2= 4 2*3= 6 2*4= 8 2*5=10 2*6=12 2*7=14 2*8=16 2*9=18 \n",
            "3*2= 6 3*3= 9 3*4=12 3*5=15 3*6=18 3*7=21 3*8=24 3*9=27 \n",
            "4*2= 8 4*3=12 4*4=16 4*5=20 4*6=24 4*7=28 4*8=32 4*9=36 \n",
            "5*2=10 5*3=15 5*4=20 5*5=25 5*6=30 5*7=35 5*8=40 5*9=45 \n",
            "6*2=12 6*3=18 6*4=24 6*5=30 6*6=36 6*7=42 6*8=48 6*9=54 \n",
            "7*2=14 7*3=21 7*4=28 7*5=35 7*6=42 7*7=49 7*8=56 7*9=63 \n",
            "8*2=16 8*3=24 8*4=32 8*5=40 8*6=48 8*7=56 8*8=64 8*9=72 \n",
            "9*2=18 9*3=27 9*4=36 9*5=45 9*6=54 9*7=63 9*8=72 9*9=81 \n"
          ]
        }
      ]
    },
    {
      "cell_type": "code",
      "source": [
        "test=int(input(\"請輸入正整數:\"))\n",
        "for i in range (1,13):\n",
        "  if(i%5>0):\n",
        "    \n",
        "    print(i,end=\" \")"
      ],
      "metadata": {
        "colab": {
          "base_uri": "https://localhost:8080/"
        },
        "id": "DKZOtyHQavWs",
        "outputId": "eaf11661-dc02-48a6-ef0a-700598a883ad"
      },
      "execution_count": 55,
      "outputs": [
        {
          "output_type": "stream",
          "name": "stdout",
          "text": [
            "請輸入正整數:12\n",
            "1 2 3 4 6 7 8 9 11 12 "
          ]
        }
      ]
    }
  ]
}